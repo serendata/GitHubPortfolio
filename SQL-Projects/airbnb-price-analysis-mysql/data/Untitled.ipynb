{
 "cells": [
  {
   "cell_type": "code",
   "execution_count": 4,
   "id": "45e0c169-666d-4bd4-98b2-557c9a26fe8a",
   "metadata": {},
   "outputs": [],
   "source": [
    "import pandas as pd\n",
    "import numpy as np\n",
    "\n",
    "np.random.seed(42)\n",
    "n = 10000\n",
    "\n",
    "data = pd.DataFrame({\n",
    "    'id': np.arange(1, n+1),\n",
    "    'name': np.random.choice(['Cozy Apt','Luxury Villa','Shared Dorm','Beach House','City Conda'],n),\n",
    "    'host_id': np.random.randint(1000, 2000, n),\n",
    "    'host_name': np.random.choice(['Alice','Bob','Charlie','Diana','Elon'],n),\n",
    "    'neighbourhood_cleansed': np.random.choice(['Neighbourhood A','Neighbourhood B','Neighbourhood C','Neighbourhood D'],n),\n",
    "    'room_type': np.random.choice(['Entire home/apt','Private room','Shared room','Hotel room'],n),\n",
    "    'price': np.random.randint(30, 500, n),\n",
    "    'minimum_nights': np.random.randint(1, 30, n),\n",
    "    'number_of_reviews': np.random.randint(0, 300, n)\n",
    "})\n",
    "\n",
    "data.to_csv('listings_cleaned.csv', index=False, encoding='utf-8')\n",
    "                             "
   ]
  },
  {
   "cell_type": "code",
   "execution_count": null,
   "id": "aac6a357-9d10-4184-a4eb-64263c8e32e1",
   "metadata": {},
   "outputs": [],
   "source": []
  },
  {
   "cell_type": "code",
   "execution_count": null,
   "id": "428fc32e-a527-4f66-b3e7-cbcf00a8c54b",
   "metadata": {},
   "outputs": [],
   "source": []
  },
  {
   "cell_type": "code",
   "execution_count": null,
   "id": "37d3597c-2f7e-415b-a5bc-2c9faeac42b9",
   "metadata": {},
   "outputs": [],
   "source": []
  }
 ],
 "metadata": {
  "kernelspec": {
   "display_name": "Python 3 (ipykernel)",
   "language": "python",
   "name": "python3"
  },
  "language_info": {
   "codemirror_mode": {
    "name": "ipython",
    "version": 3
   },
   "file_extension": ".py",
   "mimetype": "text/x-python",
   "name": "python",
   "nbconvert_exporter": "python",
   "pygments_lexer": "ipython3",
   "version": "3.13.5"
  }
 },
 "nbformat": 4,
 "nbformat_minor": 5
}
